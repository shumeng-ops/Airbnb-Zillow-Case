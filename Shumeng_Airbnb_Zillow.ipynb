{
 "cells": [
  {
   "cell_type": "markdown",
   "metadata": {},
   "source": [
    "# Airbnb & Zillow Data Challenge \n",
    "### Shumeng Shi -  2021/09\n",
    "\n",
    "- Introduction <br>\n",
    "- Assumptions <br>\n",
    "- Define Functions <br>\n",
    "- Data Preparation <br>\n",
    "- Data Transformation <br>\n",
    "- Visualization <br>\n",
    "- Summary <br>\n"
   ]
  },
  {
   "cell_type": "code",
   "execution_count": 1,
   "metadata": {},
   "outputs": [
    {
     "data": {
      "text/html": [
       "<style>.container { width:100% !important; }</style>"
      ],
      "text/plain": [
       "<IPython.core.display.HTML object>"
      ]
     },
     "metadata": {},
     "output_type": "display_data"
    }
   ],
   "source": [
    "## Increase cell width for Jupyter\n",
    "from IPython.core.display import display, HTML\n",
    "display(HTML(\"<style>.container { width:100% !important; }</style>\"))"
   ]
  },
  {
   "cell_type": "markdown",
   "metadata": {},
   "source": [
    "### Step 1: Introduction\n",
    "A real estate company wants to purchase two-bedroom properties in New York City to rent out short-term as part of their business model. The goal of the project is to figure out the most profitable zip code to invest in.\n",
    "The available data are the estimated Zillow cost for the purchase price and the rent prices of properties on Airbnb. \n",
    "\n",
    "### Step 2: Assumptions\n",
    "\n",
    "1. The time value of money discount rate is 0%.\n",
    "2. All properties and all square feet within each locale can be assumed to be homogeneous.\n",
    "3. Occupancy rate is 75%.\n",
    "4. Cleaning fee is also part of the revenue. Since all the properties need to provide cleaning service between guests checking out and new guests are checking in. Cleaning cost is considered the sunk cost that every host needs to bear. Thus if the host charges an extra cleaning fee, that will be counted as part of the total revenue. This project assumes the average renting nights are 6, and the house gets cleaned every six days. Thus the average cleaning revenue on each day is cleaning fee / 6.\n",
    "5. Import metrics: breakeven year and ROI\n",
    "    - Breakeven Year: the number of years it takes for the company's revenues and expenses become equal\n",
    "    - ROI: Return on investment is a performance measure used to evaluate efficiency or profitability. In this project, we use the percentage of revenue of property value over 25 years as ROI\n",
    "\n",
    "### Step 3: Define Reusable Functions\n",
    "\n",
    "To increase the efficiency and reusability of the code, first define multiple helpful functions for further use. \n",
    "\n",
    "**Function 1: clean_zip(df,zipcode)** <br>\n",
    "clean_zip function takes a dataframe and the name of the zipcode column as input. The functions drop rows with missing zipcode, convert the zipcode to string and keep the first five digits.\n",
    "In this case, only a few zip codes are missing, and it is hard to impute them based on other available information accurately. Dropping those can ensure data accuracy and avoid inviting extra errors.\n",
    "\n",
    "**Function 2: clean_price(df,df, clean_col)** <br>\n",
    "The clean_price function takes a dataframe and a list of columns to be cleaned as input. For each column in the list, the function trims unnecessary symbols ($ or space) from the two ends of the string and converts them to int.\n",
    "\n",
    "\n",
    "**Function 3: profit_analysis(df, value, total_price, occupancy, years)** <br>\n",
    "The profit_analysis function will take a dataframe and several parameters as input. Value is the estimation of property value from Zillow, total_price is the addition of daily rent and cleaning fee. Years is the ROI of specific years.\n",
    "\n",
    "\n",
    "**Function 4: twinx_bar(x_label,y1,y2,xticks, w,label1, label2)** <br>\n",
    "The twinx_bar function creates dual axes histogram plots side by sid. The input parameters are the x label, the value of two y variables(y1,y2), the labels of two y variables(label1,label2). w is the width of the histogram, and xticks is the number of xtickes to be included in the plot.\n",
    "\n",
    "**Function 5: zip_map(width,height,center,df_map,color_category)** <br>\n",
    "The zip_map function creates a dynamic map that marks the location based on zipcode.The parameters are: width and hieght of the figure size. The longitude and latitude of the map center point. "
   ]
  },
  {
   "cell_type": "code",
   "execution_count": 2,
   "metadata": {},
   "outputs": [
    {
     "name": "stderr",
     "output_type": "stream",
     "text": [
      "C:\\Users\\Shumeng\\Anaconda3\\lib\\site-packages\\requests\\__init__.py:91: RequestsDependencyWarning: urllib3 (1.26.6) or chardet (3.0.4) doesn't match a supported version!\n",
      "  RequestsDependencyWarning)\n"
     ]
    }
   ],
   "source": [
    "## Import library\n",
    "import pandas as pd\n",
    "import numpy as np\n",
    "import matplotlib.pyplot as plt\n",
    "%matplotlib inline\n",
    "import folium\n",
    "from branca.element import Figure\n",
    "from geopy.geocoders import Nominatim\n",
    "pd.set_option('display.float_format', lambda x: '%.0f' % x)\n",
    "import warnings\n",
    "warnings.filterwarnings('ignore')"
   ]
  },
  {
   "cell_type": "code",
   "execution_count": 3,
   "metadata": {},
   "outputs": [],
   "source": [
    "def clean_zip(df,zipcode):\n",
    "    ## get rid of the dash in the zipcode\n",
    "    df = df.dropna(subset=['zipcode'])\n",
    "    ## Convert the zipcode to string and get the first 5 digits\n",
    "    df['zipcode'] = df['zipcode'].apply(lambda x: str(x)[:5])\n",
    "    return df\n",
    "\n",
    "def clean_price(df, clean_col):\n",
    "    for col in clean_col:\n",
    "        df[col] = df[col].apply(lambda x: x.lstrip('$').rstrip(' ').replace(',', ''))   ## remove special symbols $ and spaces\n",
    "        df[col] = df[col].apply(lambda x: int(float(x)))   ## convert it to INT\n",
    "    return df\n",
    "\n",
    "def profit_analysis(df, value, total_price, occupancy, years):\n",
    "    ## how many renting days it takes to breakeven\n",
    "    df['breakeven_days'] = df[value] /df[total_price] \n",
    "    ## how many years it takes to breakeven given the occupancy rate\n",
    "    df['breakeven_years'] = df['breakeven_days'] / occupancy/365\n",
    "    ## ROI - the total profit among certain years (revenue - cost) / cost\n",
    "    df['roi'] = (df[total_price]*365*years*occupancy - df[value]) / df[value]\n",
    "    return df\n",
    "\n",
    "def twinx_bar(x_label,y1,y2,xticks, w,label1, label2):\n",
    "    fig,ax1 = plt.subplots(figsize=(15, 8))    ## define a figure and the first axis\n",
    "    bar1 = range(xticks)      ## the x coordinator of first bar    \n",
    "    bar2 = [i+w for i in bar1]   ## the x coordinator of second bar - is w away from the first bar\n",
    "    bar_label = [i+w/2 for i in bar1]    ## the x coordinator of x axis lable - in the middle of the two bars\n",
    "    ax1.bar(bar1,y1,color = \"#eecbff\",width = 0.4,label = label1)    ## draw the first bar chart\n",
    "    ax1.grid(False)    ## hide the grid\n",
    "    ax1.set_ylabel('Breakeven Years')\n",
    "    ax2 = ax1.twinx() ## create second y axis\n",
    "    ax2.bar(bar2,y2,color = \"#95f2c7\",width = 0.4, label = label2)    ## draw the second bar chart\n",
    "    ax2.grid(False)\n",
    "    ax2.set_ylabel('ROI')\n",
    "    plt.xticks(bar_label,x_label)\n",
    "    fig.legend(loc=\"upper right\")\n",
    "\n",
    "    \n",
    "def zip_map(width,height,center,df_map,color_category):\n",
    "    geolocator = Nominatim(user_agent=\"shumeng.shi9@gmail.com\")\n",
    "    for z in range(len(df_map)):\n",
    "        result = geolocator.geocode({\"postalcode\": int(df_map.loc[z,'zipcode'])})   ## for each zipcode in the df, use geolocator to get the center coordinate of that area\n",
    "        df_map.loc[z,'latitude'] = result[1][0]    ## store the latitude in df\n",
    "        df_map.loc[z,'longitude'] = result[1][1]   ## store the longitude in df\n",
    "    \n",
    "    fig = Figure(width=width, height=height)\n",
    "    m=folium.Map(width=width,height=height,location=center, tiles = 'OpenStreetMap',zoom_start=10, min_zoom = 8, max_zoom = 14)  ## create map\n",
    "    for i, row in df_map.iterrows():     ## for each point in the df, mark them on the map with their longitude and latitude\n",
    "        lat = df_map.loc[i,'latitude']\n",
    "        lng = df_map.loc[i,'longitude']\n",
    "        breakeven_years = int(df_map.loc[i,'breakeven_years'])   ## add the zipcode & neighborhood & breakeven_year & ROI onto the popup\n",
    "        neighbourhood = df_map.loc[i,'neighbourhood_group_cleansed']\n",
    "        ROI = round(df_map.loc[i,'roi']*100,2)\n",
    "        popup = df_map.loc[i,'neighbourhood_group_cleansed'] + '<br>' +'zipcode:' +str(df_map.loc[i,'zipcode']) + '<br>' +\"breakeven_years:\" + str(breakeven_years) + 'yrs'+ '<br>'  + \"ROI: \" + str(ROI) +\"%\"\n",
    "        if neighbourhood == color_category[0]:  ## specify different colors to different district\n",
    "            color = 'blue'\n",
    "        elif neighbourhood == color_category[1]:\n",
    "            color = 'red'\n",
    "        else:\n",
    "            color = 'orange'\n",
    "\n",
    "        folium.Marker(location = [lat,lng], popup =popup, icon = folium.Icon(color=color)).add_to(m)\n",
    "    fig.add_child(m)\n",
    "    return fig"
   ]
  },
  {
   "cell_type": "markdown",
   "metadata": {},
   "source": [
    "### Step 4: Data Preparation\n",
    "\n",
    "#### 4.1 Import the data and combine listing data together"
   ]
  },
  {
   "cell_type": "code",
   "execution_count": 4,
   "metadata": {},
   "outputs": [],
   "source": [
    "## read the data from local csv file\n",
    "z_price = pd.read_csv('Zip_Zhvi_2bedroom.csv')\n",
    "list_1 = pd.read_csv('listings_file_1_of_4.csv')\n",
    "list_2 = pd.read_csv('listings_file_2_of_4.csv', header = None)\n",
    "list_3 = pd.read_csv('listings_file_3_of_4.csv', header = None)\n",
    "list_4 = pd.read_csv('listings_file_4_of_4.csv', header = None)\n",
    "\n",
    "## change the column name \n",
    "list_2.columns = list(list_1.columns)\n",
    "list_3.columns = list(list_1.columns)\n",
    "list_4.columns = list(list_1.columns)\n",
    "\n",
    "## combine all the listings file together as big table\n",
    "listing = pd.concat([list_1, list_2,list_3,list_4],axis = 0)"
   ]
  },
  {
   "cell_type": "markdown",
   "metadata": {},
   "source": [
    "#### 4.2 Select Relevant Data\n",
    "1. Zillow Price:\n",
    "    - Rows Selection: The analysis confines two-bedroom properties in NYC. Limit data entry to only in NYC. Because the city column in Zillow df is messy and many are incorrectly tagged, we decided to use the state column and metro to limit NYC entries.\n",
    "    - Columns selection: The property price from many years ago can't accurately reflect its value today. Also, there are many missing values in those columns. We only keep the most recent years' cost as a reference.\n",
    "2. Airbnb listing:\n",
    "    - Rows Selection:For the Airbnb listing data, New York comprises five areas: Brooklyn, Queens, Manhattan, the Bronx. Select those areas in the Airbnb data with two bedrooms. \n",
    "    - Columns selection:There are many host and facilities information related to the specific property in the Airbnb data. Those don't bring value in analyzing the profitability by zipcode. Thus, we only keep the location-related information for further analysis."
   ]
  },
  {
   "cell_type": "code",
   "execution_count": 5,
   "metadata": {},
   "outputs": [
    {
     "name": "stdout",
     "output_type": "stream",
     "text": [
      "The shape of zillow table (156, 9)\n",
      "The shape of listing table (4769, 10)\n"
     ]
    }
   ],
   "source": [
    "## filter out to values only for NYC\n",
    "z_price = z_price[(z_price['State'] == 'NY') & (z_price['Metro'] == 'New York')].reset_index()\n",
    "listing = listing[(listing['state'].str.contains('NY','New York')) & (listing['city'].str.lower().str.contains(\"new york|brooklyn|queens|manhattan|bronx\")) & (listing['bedrooms'] == 2)].reset_index()\n",
    "\n",
    "\n",
    "## select only related features，any host related features and facility amendity features are not relavent, because we only care about the property itself, not the add -on values\n",
    "listing = listing[['street','neighbourhood_group_cleansed','city','state','zipcode','latitude','longitude','square_feet','price','cleaning_fee']]\n",
    "\n",
    "## for the zillow data set, we choose the latest price level for analysis\n",
    "z_price = z_price[['RegionName','SizeRank','2017-01','2017-02','2017-03','2017-04','2017-05','2017-06']]\n",
    "z_price['avg_price'] = z_price[['2017-01','2017-02','2017-03','2017-04','2017-05','2017-06']].mean(axis=1)\n",
    "\n",
    "print(\"The shape of zillow table \" + str(z_price.shape))\n",
    "print(\"The shape of listing table \" + str(listing.shape))"
   ]
  },
  {
   "cell_type": "markdown",
   "metadata": {},
   "source": [
    "#### 4.3 Data Cleaning  - Perform outlier detection, null value imputation, data cleanup to ensure data quality\n",
    "##### 4.3.1 Zillow price"
   ]
  },
  {
   "cell_type": "code",
   "execution_count": 6,
   "metadata": {},
   "outputs": [
    {
     "name": "stdout",
     "output_type": "stream",
     "text": [
      "RegionName    0\n",
      "SizeRank      0\n",
      "2017-01       0\n",
      "2017-02       0\n",
      "2017-03       0\n",
      "2017-04       0\n",
      "2017-05       0\n",
      "2017-06       0\n",
      "avg_price     0\n",
      "dtype: int64\n",
      "There are 0 duplicated zipcode in the table\n",
      "There are 0 duplicated row in the table\n"
     ]
    }
   ],
   "source": [
    "## Check null value and duplicated rows\n",
    "print(z_price.isnull().sum()) \n",
    "print(\"There are \" + str(sum(z_price.duplicated(['RegionName']))) +\" duplicated zipcode in the table\")\n",
    "print(\"There are \" + str(sum(z_price.duplicated())) +\" duplicated row in the table\")\n",
    "\n",
    "## change column name from RegionName to zipcode\n",
    "z_price = z_price.rename(columns={\"RegionName\": \"zipcode\"})\n",
    "## use the cusomized function \"clean_zip\" to clean the zipcode in the z_price df\n",
    "z_price = clean_zip(z_price,'zipcode')"
   ]
  },
  {
   "cell_type": "markdown",
   "metadata": {},
   "source": [
    "There is no null value and no duplicatd rows in the zillow dataset. Next, examine the distribution of the price column by ploting the histogram of prices in 2017-06 and the average prices in the past 6 months side by side."
   ]
  },
  {
   "cell_type": "code",
   "execution_count": 7,
   "metadata": {},
   "outputs": [
    {
     "data": {
      "image/png": "[encoded data removed]",
      "text/plain": [
       "<Figure size 1296x432 with 2 Axes>"
      ]
     },
     "metadata": {
      "needs_background": "light"
     },
     "output_type": "display_data"
    }
   ],
   "source": [
    "## plot the distribution of price on 201706\n",
    "## even though some of the house have very large value, but I checked the values in the past few months, they are pretty steady, so they are not outlier\n",
    "fig, ax = plt.subplots(1,2,figsize=(18, 6))\n",
    "#plt.figure(figsize=(8, 6), dpi=80)\n",
    "prices_x = z_price['2017-06']\n",
    "prices_x_2 = z_price['avg_price']\n",
    "plt.style.use(\"fivethirtyeight\")\n",
    "bins = [0,500000, 1000000, 1500000,2000000,2500000,3000000,3500000]\n",
    "# prices_x.hist(bins = bins, ax = axes[0],edgecolor = 'black')\n",
    "# prices_x_2.hist(bins = bins, ax = axes[1],edgecolor = 'black')\n",
    "# plt.show()\n",
    "\n",
    "ax[0].hist(prices_x, bins, alpha = 0.5, color = 'r', label = '2017-06 price')\n",
    "\n",
    "ax[1].hist(prices_x_2, bins, alpha = 0.5, color = 'g', label = '6 month average price')\n",
    "ax[0].set_title('House Price Histogram - 2017-06')\n",
    "ax[1].set_title('House Price Histogram - 6 Month Average')\n",
    "##fig.legend(loc=\"upper right\")\n",
    "\n",
    "plt.show()\n",
    "\n",
    "z_price = z_price[['zipcode','SizeRank','2017-06']]"
   ]
  },
  {
   "cell_type": "markdown",
   "metadata": {},
   "source": [
    "After plotting the distribution of house prices on 2017-06, and the price distribution of the six-month average (2017-01 to 2017-06), there is no significant difference between these two. We can conclude that even if very few properties have extremely high prices, that is likely not an error but a fair value. Also, we will use the last month as the final analysis price due to no significant difference between those."
   ]
  },
  {
   "cell_type": "markdown",
   "metadata": {},
   "source": [
    "##### 4.3.2 Airbnb data - Drop out square_feet and clean up price, cleaning_fee and zipcode"
   ]
  },
  {
   "cell_type": "code",
   "execution_count": 8,
   "metadata": {},
   "outputs": [
    {
     "data": {
      "text/plain": [
       "street                         0.00\n",
       "neighbourhood_group_cleansed   0.00\n",
       "city                           0.00\n",
       "state                          0.00\n",
       "zipcode                        0.01\n",
       "latitude                       0.00\n",
       "longitude                      0.00\n",
       "square_feet                    0.98\n",
       "price                          0.00\n",
       "cleaning_fee                   0.20\n",
       "dtype: float64"
      ]
     },
     "execution_count": 8,
     "metadata": {},
     "output_type": "execute_result"
    }
   ],
   "source": [
    "## get the % of missing value\n",
    "pd.set_option('display.float_format', lambda x: '%.2f' % x)\n",
    "listing.isnull().sum() / len(listing)"
   ]
  },
  {
   "cell_type": "markdown",
   "metadata": {},
   "source": [
    "98% of the square feet is missing, and it does not bring us valuable information. For analysis purposes, delete the column. About 20% of the cleaning fee is empty, impute the empty value with 0."
   ]
  },
  {
   "cell_type": "code",
   "execution_count": 9,
   "metadata": {},
   "outputs": [],
   "source": [
    "## because 98% of the square_feet is null, delete the column \n",
    "listing = listing.drop(['square_feet'], axis = 1)\n",
    "listing['cleaning_fee'] = listing['cleaning_fee'].fillna('0')\n",
    "## Clean the price, cleaning_fee and zipcode with customized function\n",
    "listing = clean_price(listing, ['price','cleaning_fee'])\n",
    "listing = clean_zip(listing,'zipcode')"
   ]
  },
  {
   "cell_type": "markdown",
   "metadata": {},
   "source": [
    "### Step 5: Data Transformation -- Join Zillow data and Airbnb data, conduct profitability analysis and select zipcode"
   ]
  },
  {
   "cell_type": "code",
   "execution_count": 10,
   "metadata": {},
   "outputs": [],
   "source": [
    "df = pd.merge(left=listing, right=z_price, left_on='zipcode', right_on='zipcode')\n",
    "## We assume the apartment is cleaned every six days, the daily revenue of cleaning fee is 1/6 of the total cleaning_fee\n",
    "df['total_price'] = df['price'] + df['cleaning_fee'] / 6\n",
    "## rename the value column\n",
    "df = df.rename(columns={\"2017-06\": \"value\"})\n",
    "df = df.drop(['street','city','state','price','cleaning_fee','SizeRank','latitude','longitude'], axis = 1)"
   ]
  },
  {
   "cell_type": "markdown",
   "metadata": {},
   "source": [
    "After applying the customized function profit_analysis to get the breakeven years of each property and the ROI of a 25-year investment period, calculate the average breakeven year and ROI of all the properties in that zip code. Select the common nine zip codes that are on the top of both lists."
   ]
  },
  {
   "cell_type": "code",
   "execution_count": 11,
   "metadata": {},
   "outputs": [
    {
     "data": {
      "text/plain": [
       "{'10022',\n",
       " '10025',\n",
       " '10036',\n",
       " '11201',\n",
       " '11215',\n",
       " '11217',\n",
       " '11231',\n",
       " '11234',\n",
       " '11434'}"
      ]
     },
     "execution_count": 11,
     "metadata": {},
     "output_type": "execute_result"
    }
   ],
   "source": [
    "df = profit_analysis(df,'value','total_price',0.75,25)\n",
    "df_agg = df.groupby(['zipcode','neighbourhood_group_cleansed']).mean()\n",
    "df_agg = df_agg.sort_values(by=['breakeven_years'], ascending=True).reset_index()\n",
    "\n",
    "zip_years = list(df_agg.sort_values(by=['breakeven_years'], ascending=True)[:10]['zipcode'])\n",
    "zip_roi = list(df_agg.sort_values(by=['roi'], ascending=False)[:10]['zipcode'])\n",
    "zip_selected = set(zip_roi) & set(zip_years)\n",
    "zip_selected"
   ]
  },
  {
   "cell_type": "markdown",
   "metadata": {},
   "source": [
    "### Step 6: Data Visualization - Plot the breakeven year and ROI to select recommended zipcode"
   ]
  },
  {
   "cell_type": "code",
   "execution_count": 12,
   "metadata": {},
   "outputs": [
    {
     "data": {
      "image/png": "[encoded data removed]",
      "text/plain": [
       "<Figure size 1080x576 with 2 Axes>"
      ]
     },
     "metadata": {},
     "output_type": "display_data"
    }
   ],
   "source": [
    "year_y = df_agg[df_agg.zipcode.isin (zip_selected)]['breakeven_years']\n",
    "roi_y = df_agg[df_agg.zipcode.isin (zip_selected)]['roi']\n",
    "zip_selected = df_agg[df_agg.zipcode.isin (zip_selected)]['zipcode']\n",
    "## Apply the customized function to make the bar charts\n",
    "twinx_bar(zip_selected,year_y,roi_y,9,0.4,\"breakeven year\",\"ROI\")"
   ]
  },
  {
   "cell_type": "markdown",
   "metadata": {},
   "source": [
    "The side-by-side bar chart shows that the first two zip codes - 11234 and 11434 have the smallest breakeven year, about 16 years. And zipcode 1,2,3,7 have relatively high ROI, ranging from 40% to 60%. Based on the above analysis, we decide to recommend those 4 zip codes for purchase - ['11234','11434','10036','10025']"
   ]
  },
  {
   "cell_type": "code",
   "execution_count": 13,
   "metadata": {},
   "outputs": [
    {
     "data": {
      "text/html": [
       "<iframe src=\"about:blank\" width=\"650\" height=\"450\"style=\"border:none !important;\" data-html=%3C%21DOCTYPE%20html%3E%0A%3Chead%3E%20%20%20%20%0A%20%20%20%20%3Cmeta%20http-equiv%3D%22content-type%22%20content%3D%22text/html%3B%20charset%3DUTF-8%22%20/%3E%0A%20%20%20%20%0A%20%20%20%20%20%20%20%20%3Cscript%3E%0A%20%20%20%20%20%20%20%20%20%20%20%20L_NO_TOUCH%20%3D%20false%3B%0A%20%20%20%20%20%20%20%20%20%20%20%20L_DISABLE_3D%20%3D%20false%3B%0A%20%20%20%20%20%20%20%20%3C/script%3E%0A%20%20%20%20%0A%20%20%20%20%3Cstyle%3Ehtml%2C%20body%20%7Bwidth%3A%20100%25%3Bheight%3A%20100%25%3Bmargin%3A%200%3Bpadding%3A%200%3B%7D%3C/style%3E%0A%20%20%20%20%3Cstyle%3E%23map%20%7Bposition%3Aabsolute%3Btop%3A0%3Bbottom%3A0%3Bright%3A0%3Bleft%3A0%3B%7D%3C/style%3E%0A%20%20%20%20%3Cscript%20src%3D%22https%3A//cdn.jsdelivr.net/npm/leaflet%401.6.0/dist/leaflet.js%22%3E%3C/script%3E%0A%20%20%20%20%3Cscript%20src%3D%22https%3A//code.jquery.com/jquery-1.12.4.min.js%22%3E%3C/script%3E%0A%20%20%20%20%3Cscript%20src%3D%22https%3A//maxcdn.bootstrapcdn.com/bootstrap/3.2.0/js/bootstrap.min.js%22%3E%3C/script%3E%0A%20%20%20%20%3Cscript%20src%3D%22https%3A//cdnjs.cloudflare.com/ajax/libs/Leaflet.awesome-markers/2.0.2/leaflet.awesome-markers.js%22%3E%3C/script%3E%0A%20%20%20%20%3Clink%20rel%3D%22stylesheet%22%20href%3D%22https%3A//cdn.jsdelivr.net/npm/leaflet%401.6.0/dist/leaflet.css%22/%3E%0A%20%20%20%20%3Clink%20rel%3D%22stylesheet%22%20href%3D%22https%3A//maxcdn.bootstrapcdn.com/bootstrap/3.2.0/css/bootstrap.min.css%22/%3E%0A%20%20%20%20%3Clink%20rel%3D%22stylesheet%22%20href%3D%22https%3A//maxcdn.bootstrapcdn.com/bootstrap/3.2.0/css/bootstrap-theme.min.css%22/%3E%0A%20%20%20%20%3Clink%20rel%3D%22stylesheet%22%20href%3D%22https%3A//maxcdn.bootstrapcdn.com/font-awesome/4.6.3/css/font-awesome.min.css%22/%3E%0A%20%20%20%20%3Clink%20rel%3D%22stylesheet%22%20href%3D%22https%3A//cdnjs.cloudflare.com/ajax/libs/Leaflet.awesome-markers/2.0.2/leaflet.awesome-markers.css%22/%3E%0A%20%20%20%20%3Clink%20rel%3D%22stylesheet%22%20href%3D%22https%3A//cdn.jsdelivr.net/gh/python-visualization/folium/folium/templates/leaflet.awesome.rotate.min.css%22/%3E%0A%20%20%20%20%0A%20%20%20%20%20%20%20%20%20%20%20%20%3Cmeta%20name%3D%22viewport%22%20content%3D%22width%3Ddevice-width%2C%0A%20%20%20%20%20%20%20%20%20%20%20%20%20%20%20%20initial-scale%3D1.0%2C%20maximum-scale%3D1.0%2C%20user-scalable%3Dno%22%20/%3E%0A%20%20%20%20%20%20%20%20%20%20%20%20%3Cstyle%3E%0A%20%20%20%20%20%20%20%20%20%20%20%20%20%20%20%20%23map_d036eea2e8234d9eaeb463feb0742a26%20%7B%0A%20%20%20%20%20%20%20%20%20%20%20%20%20%20%20%20%20%20%20%20position%3A%20relative%3B%0A%20%20%20%20%20%20%20%20%20%20%20%20%20%20%20%20%20%20%20%20width%3A%20650.0px%3B%0A%20%20%20%20%20%20%20%20%20%20%20%20%20%20%20%20%20%20%20%20height%3A%20450.0px%3B%0A%20%20%20%20%20%20%20%20%20%20%20%20%20%20%20%20%20%20%20%20left%3A%200.0%25%3B%0A%20%20%20%20%20%20%20%20%20%20%20%20%20%20%20%20%20%20%20%20top%3A%200.0%25%3B%0A%20%20%20%20%20%20%20%20%20%20%20%20%20%20%20%20%7D%0A%20%20%20%20%20%20%20%20%20%20%20%20%3C/style%3E%0A%20%20%20%20%20%20%20%20%0A%3C/head%3E%0A%3Cbody%3E%20%20%20%20%0A%20%20%20%20%0A%20%20%20%20%20%20%20%20%20%20%20%20%3Cdiv%20class%3D%22folium-map%22%20id%3D%22map_d036eea2e8234d9eaeb463feb0742a26%22%20%3E%3C/div%3E%0A%20%20%20%20%20%20%20%20%0A%3C/body%3E%0A%3Cscript%3E%20%20%20%20%0A%20%20%20%20%0A%20%20%20%20%20%20%20%20%20%20%20%20var%20map_d036eea2e8234d9eaeb463feb0742a26%20%3D%20L.map%28%0A%20%20%20%20%20%20%20%20%20%20%20%20%20%20%20%20%22map_d036eea2e8234d9eaeb463feb0742a26%22%2C%0A%20%20%20%20%20%20%20%20%20%20%20%20%20%20%20%20%7B%0A%20%20%20%20%20%20%20%20%20%20%20%20%20%20%20%20%20%20%20%20center%3A%20%5B40.785%2C%20-73.9682%5D%2C%0A%20%20%20%20%20%20%20%20%20%20%20%20%20%20%20%20%20%20%20%20crs%3A%20L.CRS.EPSG3857%2C%0A%20%20%20%20%20%20%20%20%20%20%20%20%20%20%20%20%20%20%20%20zoom%3A%2010%2C%0A%20%20%20%20%20%20%20%20%20%20%20%20%20%20%20%20%20%20%20%20zoomControl%3A%20true%2C%0A%20%20%20%20%20%20%20%20%20%20%20%20%20%20%20%20%20%20%20%20preferCanvas%3A%20false%2C%0A%20%20%20%20%20%20%20%20%20%20%20%20%20%20%20%20%7D%0A%20%20%20%20%20%20%20%20%20%20%20%20%29%3B%0A%0A%20%20%20%20%20%20%20%20%20%20%20%20%0A%0A%20%20%20%20%20%20%20%20%0A%20%20%20%20%0A%20%20%20%20%20%20%20%20%20%20%20%20var%20tile_layer_f5f09fe812ee46eab18b00d769fe9986%20%3D%20L.tileLayer%28%0A%20%20%20%20%20%20%20%20%20%20%20%20%20%20%20%20%22https%3A//%7Bs%7D.tile.openstreetmap.org/%7Bz%7D/%7Bx%7D/%7By%7D.png%22%2C%0A%20%20%20%20%20%20%20%20%20%20%20%20%20%20%20%20%7B%22attribution%22%3A%20%22Data%20by%20%5Cu0026copy%3B%20%5Cu003ca%20href%3D%5C%22http%3A//openstreetmap.org%5C%22%5Cu003eOpenStreetMap%5Cu003c/a%5Cu003e%2C%20under%20%5Cu003ca%20href%3D%5C%22http%3A//www.openstreetmap.org/copyright%5C%22%5Cu003eODbL%5Cu003c/a%5Cu003e.%22%2C%20%22detectRetina%22%3A%20false%2C%20%22maxNativeZoom%22%3A%2014%2C%20%22maxZoom%22%3A%2014%2C%20%22minZoom%22%3A%208%2C%20%22noWrap%22%3A%20false%2C%20%22opacity%22%3A%201%2C%20%22subdomains%22%3A%20%22abc%22%2C%20%22tms%22%3A%20false%7D%0A%20%20%20%20%20%20%20%20%20%20%20%20%29.addTo%28map_d036eea2e8234d9eaeb463feb0742a26%29%3B%0A%20%20%20%20%20%20%20%20%0A%20%20%20%20%0A%20%20%20%20%20%20%20%20%20%20%20%20var%20marker_0cf666dbc75e47059d0c26fda917605c%20%3D%20L.marker%28%0A%20%20%20%20%20%20%20%20%20%20%20%20%20%20%20%20%5B40.618947111851995%2C%20-73.92370072772765%5D%2C%0A%20%20%20%20%20%20%20%20%20%20%20%20%20%20%20%20%7B%7D%0A%20%20%20%20%20%20%20%20%20%20%20%20%29.addTo%28map_d036eea2e8234d9eaeb463feb0742a26%29%3B%0A%20%20%20%20%20%20%20%20%0A%20%20%20%20%0A%20%20%20%20%20%20%20%20%20%20%20%20var%20icon_1322854c3a9f4a849a3a2f4eac46ac94%20%3D%20L.AwesomeMarkers.icon%28%0A%20%20%20%20%20%20%20%20%20%20%20%20%20%20%20%20%7B%22extraClasses%22%3A%20%22fa-rotate-0%22%2C%20%22icon%22%3A%20%22info-sign%22%2C%20%22iconColor%22%3A%20%22white%22%2C%20%22markerColor%22%3A%20%22red%22%2C%20%22prefix%22%3A%20%22glyphicon%22%7D%0A%20%20%20%20%20%20%20%20%20%20%20%20%29%3B%0A%20%20%20%20%20%20%20%20%20%20%20%20marker_0cf666dbc75e47059d0c26fda917605c.setIcon%28icon_1322854c3a9f4a849a3a2f4eac46ac94%29%3B%0A%20%20%20%20%20%20%20%20%0A%20%20%20%20%0A%20%20%20%20%20%20%20%20var%20popup_338035da2b97426984e373e88b397c05%20%3D%20L.popup%28%7B%22maxWidth%22%3A%20%22100%25%22%7D%29%3B%0A%0A%20%20%20%20%20%20%20%20%0A%20%20%20%20%20%20%20%20%20%20%20%20var%20html_2fe5d7c13ac34081930468a87504e022%20%3D%20%24%28%60%3Cdiv%20id%3D%22html_2fe5d7c13ac34081930468a87504e022%22%20style%3D%22width%3A%20100.0%25%3B%20height%3A%20100.0%25%3B%22%3EBrooklyn%3Cbr%3Ezipcode%3A11234%3Cbr%3Ebreakeven_years%3A16yrs%3Cbr%3EROI%3A%2060.81%25%3C/div%3E%60%29%5B0%5D%3B%0A%20%20%20%20%20%20%20%20%20%20%20%20popup_338035da2b97426984e373e88b397c05.setContent%28html_2fe5d7c13ac34081930468a87504e022%29%3B%0A%20%20%20%20%20%20%20%20%0A%0A%20%20%20%20%20%20%20%20marker_0cf666dbc75e47059d0c26fda917605c.bindPopup%28popup_338035da2b97426984e373e88b397c05%29%0A%20%20%20%20%20%20%20%20%3B%0A%0A%20%20%20%20%20%20%20%20%0A%20%20%20%20%0A%20%20%20%20%0A%20%20%20%20%20%20%20%20%20%20%20%20var%20marker_e19f222eda484772bcd4041729432480%20%3D%20L.marker%28%0A%20%20%20%20%20%20%20%20%20%20%20%20%20%20%20%20%5B40.67731384279337%2C%20-73.7794854663882%5D%2C%0A%20%20%20%20%20%20%20%20%20%20%20%20%20%20%20%20%7B%7D%0A%20%20%20%20%20%20%20%20%20%20%20%20%29.addTo%28map_d036eea2e8234d9eaeb463feb0742a26%29%3B%0A%20%20%20%20%20%20%20%20%0A%20%20%20%20%0A%20%20%20%20%20%20%20%20%20%20%20%20var%20icon_ef8ff74bb88843df8a5d9b64474ee788%20%3D%20L.AwesomeMarkers.icon%28%0A%20%20%20%20%20%20%20%20%20%20%20%20%20%20%20%20%7B%22extraClasses%22%3A%20%22fa-rotate-0%22%2C%20%22icon%22%3A%20%22info-sign%22%2C%20%22iconColor%22%3A%20%22white%22%2C%20%22markerColor%22%3A%20%22orange%22%2C%20%22prefix%22%3A%20%22glyphicon%22%7D%0A%20%20%20%20%20%20%20%20%20%20%20%20%29%3B%0A%20%20%20%20%20%20%20%20%20%20%20%20marker_e19f222eda484772bcd4041729432480.setIcon%28icon_ef8ff74bb88843df8a5d9b64474ee788%29%3B%0A%20%20%20%20%20%20%20%20%0A%20%20%20%20%0A%20%20%20%20%20%20%20%20var%20popup_7ada2b31ecea4cd8860e9398f5e589d2%20%3D%20L.popup%28%7B%22maxWidth%22%3A%20%22100%25%22%7D%29%3B%0A%0A%20%20%20%20%20%20%20%20%0A%20%20%20%20%20%20%20%20%20%20%20%20var%20html_68f028b25e2f4404a6bf2e37c4d12354%20%3D%20%24%28%60%3Cdiv%20id%3D%22html_68f028b25e2f4404a6bf2e37c4d12354%22%20style%3D%22width%3A%20100.0%25%3B%20height%3A%20100.0%25%3B%22%3EQueens%3Cbr%3Ezipcode%3A11434%3Cbr%3Ebreakeven_years%3A16yrs%3Cbr%3EROI%3A%2082.99%25%3C/div%3E%60%29%5B0%5D%3B%0A%20%20%20%20%20%20%20%20%20%20%20%20popup_7ada2b31ecea4cd8860e9398f5e589d2.setContent%28html_68f028b25e2f4404a6bf2e37c4d12354%29%3B%0A%20%20%20%20%20%20%20%20%0A%0A%20%20%20%20%20%20%20%20marker_e19f222eda484772bcd4041729432480.bindPopup%28popup_7ada2b31ecea4cd8860e9398f5e589d2%29%0A%20%20%20%20%20%20%20%20%3B%0A%0A%20%20%20%20%20%20%20%20%0A%20%20%20%20%0A%20%20%20%20%0A%20%20%20%20%20%20%20%20%20%20%20%20var%20marker_cdd90361c0784413ac876b22b0c222ef%20%3D%20L.marker%28%0A%20%20%20%20%20%20%20%20%20%20%20%20%20%20%20%20%5B40.75949838516541%2C%20-73.9892156526112%5D%2C%0A%20%20%20%20%20%20%20%20%20%20%20%20%20%20%20%20%7B%7D%0A%20%20%20%20%20%20%20%20%20%20%20%20%29.addTo%28map_d036eea2e8234d9eaeb463feb0742a26%29%3B%0A%20%20%20%20%20%20%20%20%0A%20%20%20%20%0A%20%20%20%20%20%20%20%20%20%20%20%20var%20icon_6b847ddfe7e445f2b57d72752c0a4cea%20%3D%20L.AwesomeMarkers.icon%28%0A%20%20%20%20%20%20%20%20%20%20%20%20%20%20%20%20%7B%22extraClasses%22%3A%20%22fa-rotate-0%22%2C%20%22icon%22%3A%20%22info-sign%22%2C%20%22iconColor%22%3A%20%22white%22%2C%20%22markerColor%22%3A%20%22blue%22%2C%20%22prefix%22%3A%20%22glyphicon%22%7D%0A%20%20%20%20%20%20%20%20%20%20%20%20%29%3B%0A%20%20%20%20%20%20%20%20%20%20%20%20marker_cdd90361c0784413ac876b22b0c222ef.setIcon%28icon_6b847ddfe7e445f2b57d72752c0a4cea%29%3B%0A%20%20%20%20%20%20%20%20%0A%20%20%20%20%0A%20%20%20%20%20%20%20%20var%20popup_34e578681c9b443b8af9df519009d8bb%20%3D%20L.popup%28%7B%22maxWidth%22%3A%20%22100%25%22%7D%29%3B%0A%0A%20%20%20%20%20%20%20%20%0A%20%20%20%20%20%20%20%20%20%20%20%20var%20html_f3a5fafde5214d03bee7056fa70b17a3%20%3D%20%24%28%60%3Cdiv%20id%3D%22html_f3a5fafde5214d03bee7056fa70b17a3%22%20style%3D%22width%3A%20100.0%25%3B%20height%3A%20100.0%25%3B%22%3EManhattan%3Cbr%3Ezipcode%3A10036%3Cbr%3Ebreakeven_years%3A23yrs%3Cbr%3EROI%3A%2051.33%25%3C/div%3E%60%29%5B0%5D%3B%0A%20%20%20%20%20%20%20%20%20%20%20%20popup_34e578681c9b443b8af9df519009d8bb.setContent%28html_f3a5fafde5214d03bee7056fa70b17a3%29%3B%0A%20%20%20%20%20%20%20%20%0A%0A%20%20%20%20%20%20%20%20marker_cdd90361c0784413ac876b22b0c222ef.bindPopup%28popup_34e578681c9b443b8af9df519009d8bb%29%0A%20%20%20%20%20%20%20%20%3B%0A%0A%20%20%20%20%20%20%20%20%0A%20%20%20%20%0A%20%20%20%20%0A%20%20%20%20%20%20%20%20%20%20%20%20var%20marker_b2920b9c9f3348f99b2df7e9a5745bfb%20%3D%20L.marker%28%0A%20%20%20%20%20%20%20%20%20%20%20%20%20%20%20%20%5B40.796283%2C%20-73.96997151834356%5D%2C%0A%20%20%20%20%20%20%20%20%20%20%20%20%20%20%20%20%7B%7D%0A%20%20%20%20%20%20%20%20%20%20%20%20%29.addTo%28map_d036eea2e8234d9eaeb463feb0742a26%29%3B%0A%20%20%20%20%20%20%20%20%0A%20%20%20%20%0A%20%20%20%20%20%20%20%20%20%20%20%20var%20icon_cdf252fcf6ce453a9d2c90f66f2275a2%20%3D%20L.AwesomeMarkers.icon%28%0A%20%20%20%20%20%20%20%20%20%20%20%20%20%20%20%20%7B%22extraClasses%22%3A%20%22fa-rotate-0%22%2C%20%22icon%22%3A%20%22info-sign%22%2C%20%22iconColor%22%3A%20%22white%22%2C%20%22markerColor%22%3A%20%22blue%22%2C%20%22prefix%22%3A%20%22glyphicon%22%7D%0A%20%20%20%20%20%20%20%20%20%20%20%20%29%3B%0A%20%20%20%20%20%20%20%20%20%20%20%20marker_b2920b9c9f3348f99b2df7e9a5745bfb.setIcon%28icon_cdf252fcf6ce453a9d2c90f66f2275a2%29%3B%0A%20%20%20%20%20%20%20%20%0A%20%20%20%20%0A%20%20%20%20%20%20%20%20var%20popup_e36421c6fdff4e9f9bf9876e91238754%20%3D%20L.popup%28%7B%22maxWidth%22%3A%20%22100%25%22%7D%29%3B%0A%0A%20%20%20%20%20%20%20%20%0A%20%20%20%20%20%20%20%20%20%20%20%20var%20html_e420786866f94e2db45035f711079ffa%20%3D%20%24%28%60%3Cdiv%20id%3D%22html_e420786866f94e2db45035f711079ffa%22%20style%3D%22width%3A%20100.0%25%3B%20height%3A%20100.0%25%3B%22%3EManhattan%3Cbr%3Ezipcode%3A10025%3Cbr%3Ebreakeven_years%3A24yrs%3Cbr%3EROI%3A%2042.42%25%3C/div%3E%60%29%5B0%5D%3B%0A%20%20%20%20%20%20%20%20%20%20%20%20popup_e36421c6fdff4e9f9bf9876e91238754.setContent%28html_e420786866f94e2db45035f711079ffa%29%3B%0A%20%20%20%20%20%20%20%20%0A%0A%20%20%20%20%20%20%20%20marker_b2920b9c9f3348f99b2df7e9a5745bfb.bindPopup%28popup_e36421c6fdff4e9f9bf9876e91238754%29%0A%20%20%20%20%20%20%20%20%3B%0A%0A%20%20%20%20%20%20%20%20%0A%20%20%20%20%0A%3C/script%3E onload=\"this.contentDocument.open();this.contentDocument.write(    decodeURIComponent(this.getAttribute('data-html')));this.contentDocument.close();\" \"allowfullscreen\" \"webkitallowfullscreen\" \"mozallowfullscreen\"></iframe>"
      ],
      "text/plain": [
       "<branca.element.Figure at 0x18aea631b70>"
      ]
     },
     "execution_count": 13,
     "metadata": {},
     "output_type": "execute_result"
    }
   ],
   "source": [
    "zip_recommend = ['11234','11434','10036','10025']\n",
    "## filter only those 4 zipcodes to plot on map\n",
    "df_map =df_agg[df_agg.zipcode.isin(zip_recommend)].reset_index(drop = True)\n",
    "## use the customized zip_map function to plot the marks on the map\n",
    "zip_map(650,450,[40.7850,-73.9682],df_map,['Manhattan','Brooklyn','Queens'])"
   ]
  },
  {
   "cell_type": "markdown",
   "metadata": {},
   "source": [
    "### Step 7: Summary"
   ]
  },
  {
   "cell_type": "code",
   "execution_count": 14,
   "metadata": {},
   "outputs": [
    {
     "data": {
      "text/html": [
       "<div>\n",
       "<style scoped>\n",
       "    .dataframe tbody tr th:only-of-type {\n",
       "        vertical-align: middle;\n",
       "    }\n",
       "\n",
       "    .dataframe tbody tr th {\n",
       "        vertical-align: top;\n",
       "    }\n",
       "\n",
       "    .dataframe thead th {\n",
       "        text-align: right;\n",
       "    }\n",
       "</style>\n",
       "<table border=\"1\" class=\"dataframe\">\n",
       "  <thead>\n",
       "    <tr style=\"text-align: right;\">\n",
       "      <th></th>\n",
       "      <th>zipcode</th>\n",
       "      <th>neighbourhood_group_cleansed</th>\n",
       "      <th>value</th>\n",
       "      <th>total_price</th>\n",
       "      <th>breakeven_days</th>\n",
       "      <th>breakeven_years</th>\n",
       "      <th>roi</th>\n",
       "      <th>latitude</th>\n",
       "      <th>longitude</th>\n",
       "    </tr>\n",
       "  </thead>\n",
       "  <tbody>\n",
       "    <tr>\n",
       "      <th>0</th>\n",
       "      <td>11234</td>\n",
       "      <td>Brooklyn</td>\n",
       "      <td>476900</td>\n",
       "      <td>112.06</td>\n",
       "      <td>4475.73</td>\n",
       "      <td>16.35</td>\n",
       "      <td>0.61</td>\n",
       "      <td>40.62</td>\n",
       "      <td>-73.92</td>\n",
       "    </tr>\n",
       "    <tr>\n",
       "      <th>1</th>\n",
       "      <td>11434</td>\n",
       "      <td>Queens</td>\n",
       "      <td>382300</td>\n",
       "      <td>102.22</td>\n",
       "      <td>4647.43</td>\n",
       "      <td>16.98</td>\n",
       "      <td>0.83</td>\n",
       "      <td>40.68</td>\n",
       "      <td>-73.78</td>\n",
       "    </tr>\n",
       "    <tr>\n",
       "      <th>2</th>\n",
       "      <td>10036</td>\n",
       "      <td>Manhattan</td>\n",
       "      <td>1712900</td>\n",
       "      <td>378.76</td>\n",
       "      <td>6346.31</td>\n",
       "      <td>23.18</td>\n",
       "      <td>0.51</td>\n",
       "      <td>40.76</td>\n",
       "      <td>-73.99</td>\n",
       "    </tr>\n",
       "    <tr>\n",
       "      <th>3</th>\n",
       "      <td>10025</td>\n",
       "      <td>Manhattan</td>\n",
       "      <td>1431000</td>\n",
       "      <td>297.79</td>\n",
       "      <td>6626.67</td>\n",
       "      <td>24.21</td>\n",
       "      <td>0.42</td>\n",
       "      <td>40.80</td>\n",
       "      <td>-73.97</td>\n",
       "    </tr>\n",
       "  </tbody>\n",
       "</table>\n",
       "</div>"
      ],
      "text/plain": [
       "  zipcode neighbourhood_group_cleansed    value  total_price  breakeven_days  \\\n",
       "0   11234                     Brooklyn   476900       112.06         4475.73   \n",
       "1   11434                       Queens   382300       102.22         4647.43   \n",
       "2   10036                    Manhattan  1712900       378.76         6346.31   \n",
       "3   10025                    Manhattan  1431000       297.79         6626.67   \n",
       "\n",
       "   breakeven_years  roi  latitude  longitude  \n",
       "0            16.35 0.61     40.62     -73.92  \n",
       "1            16.98 0.83     40.68     -73.78  \n",
       "2            23.18 0.51     40.76     -73.99  \n",
       "3            24.21 0.42     40.80     -73.97  "
      ]
     },
     "execution_count": 14,
     "metadata": {},
     "output_type": "execute_result"
    }
   ],
   "source": [
    "df_map"
   ]
  },
  {
   "cell_type": "markdown",
   "metadata": {},
   "source": [
    "We recommend 4 zipcodes to invest in based on their breakeven year and higher ROI among 25-year period.\n",
    "- **zipcode 11434 in Queens**: Among the four recommended zipcodes, properties in Queens have the lowest value on Zillow compared to other districts in NYC like Manhattan.  It costs about \\\\$380k, and the average daily rent is \\\\$102. It will take about 17 years to break even and start earning profit. After 25 years of operation, the ROI will be 83%.\n",
    "- **zipcode 11234 in Brooklyn**: Among the four recommend zipcodes, the property cost in Brooklyn is in the middle.  It costs about \\\\$476k, and the average daily rent is \\\\$112. It will take about 16 years to break even and start earning profit. After 25 years of operation, the ROI will be 61%.\n",
    "- **zipcode 10036 in Manhanttan**: Among the four recommended zipcodes, Manhattan's property cost and daily rent are the highest, and it takes longer to break even.  It costs about \\\\$1.7M, and the average daily rent is \\\\$378. It will take about 23 years to break even and start earning profit. After 25 years of operation, the ROI will be 51%. But once it breaks even, the profit growth speed is higher due to the higher daily rent.\n",
    "- **zipcode 10036 in Manhanttan**: Among the four recommend zipcodes, the property cost in Manhanttan and daily rent are the highest, and it takes longer to break even.  It costs about \\\\$1.7M, and the average daily rent is \\\\$297. It will take about 24 years to break even and start earning profit. After 25 years of operation, the ROI will be 42%.\n"
   ]
  },
  {
   "cell_type": "markdown",
   "metadata": {},
   "source": [
    "### Step 8: Future Steps"
   ]
  },
  {
   "cell_type": "markdown",
   "metadata": {},
   "source": [
    "- **Missing zip code in the listing table**: Due to time limitations, we drop the records with missing zip codes in the analysis. With more time, it would be better to leverage $geopy.geocoders$ library to get the valid zip code from longitude and latitude. That will give us more information and help make a better decision\n",
    "- **Property cost**: In the analysis, we use the Zillow cost from 2017/06 as the cost for analysis. Suppose the analysis is conducted to help make a decision today in 2021. In that case, we can either collect more recent dates or run a time series model to predict the property cost to reflect the situation better.\n",
    "- **Discount rate**: In this case, we use the daily rent in the calculation. If time permits, we could better estimate the average renting period in different districts or zipcodes. Then we could use the weekly rent and monthly rent to predict revenue and profit better. \n",
    "- **Model in predicting occupancy rate**: Instead of using the universal 75% across all properties, we could run a machine learning model with property features(amenities, location), host information, and renter reviews to get a customized occupancy rate for different districts\n",
    "- **More metrics to evaluate recommended zipcode**: If time permits, we can add more metrics in our analysis, like the annual revenue, annual profit, ROI in 10 years, 20 years, 30 years, etc. Also, instead of getting the average of those metrics across all properties from a specific zip code, we could calculate each zipcode's median or mode to complement our analysis."
   ]
  }
 ],
 "metadata": {
  "kernelspec": {
   "display_name": "Python 3",
   "language": "python",
   "name": "python3"
  },
  "language_info": {
   "codemirror_mode": {
    "name": "ipython",
    "version": 3
   },
   "file_extension": ".py",
   "mimetype": "text/x-python",
   "name": "python",
   "nbconvert_exporter": "python",
   "pygments_lexer": "ipython3",
   "version": "3.7.3"
  }
 },
 "nbformat": 4,
 "nbformat_minor": 2
}
